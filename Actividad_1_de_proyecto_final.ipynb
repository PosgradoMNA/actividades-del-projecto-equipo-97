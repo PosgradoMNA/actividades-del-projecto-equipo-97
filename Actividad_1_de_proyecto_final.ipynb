{
  "nbformat": 4,
  "nbformat_minor": 0,
  "metadata": {
    "colab": {
      "provenance": [],
      "include_colab_link": true
    },
    "kernelspec": {
      "name": "python3",
      "display_name": "Python 3"
    },
    "language_info": {
      "name": "python"
    }
  },
  "cells": [
    {
      "cell_type": "markdown",
      "metadata": {
        "id": "view-in-github",
        "colab_type": "text"
      },
      "source": [
        "<a href=\"https://colab.research.google.com/github/PosgradoMNA/actividades-del-projecto-equipo-97/blob/rama_oscar/Actividad_1_de_proyecto_final.ipynb\" target=\"_parent\"><img src=\"https://colab.research.google.com/assets/colab-badge.svg\" alt=\"Open In Colab\"/></a>"
      ]
    },
    {
      "cell_type": "markdown",
      "source": [
        "1.   El nombre que caracteriza el conjunto de datos."
      ],
      "metadata": {
        "id": "B8Z4FWHvVFRi"
      }
    },
    {
      "cell_type": "markdown",
      "source": [
        "2.   La organización que lo generó.\n",
        "\n"
      ],
      "metadata": {
        "id": "Vtfdj-GvXC8o"
      }
    },
    {
      "cell_type": "markdown",
      "source": [
        "3.   Incluya un enlace de Internet donde se puedan descargar en línea y enviar como una hoja de cálculo junto con su informe correspondiente.\n",
        "\n"
      ],
      "metadata": {
        "id": "GxgMOeSAXJRS"
      }
    },
    {
      "cell_type": "markdown",
      "source": [
        "4.   Describe el conjunto de datos. ¿Qué datos contiene?"
      ],
      "metadata": {
        "id": "IUnDIhpuXVum"
      }
    },
    {
      "cell_type": "markdown",
      "source": [
        "5.   ¿Cuáles son algunas de las preguntas de investigación que podría responder con estos datos? Enumere al menos OCHO (no responda las preguntas).\n",
        "\n",
        "*   ¿Cual municipio es el que consume mas agua?\n",
        "*   ¿Que factores son los que llevan a que un municipio consuma mucha agua?\n",
        "*   ¿Cual es el municipo que consume mas combustible?\n",
        "*   ¿Que factores son los que llevan a que un municipio consuma mucho combustible?"
      ],
      "metadata": {
        "id": "FpVi6kv8Xahu"
      }
    },
    {
      "cell_type": "markdown",
      "source": [
        "6.   ¿Qué actor (empresa, sector de la sociedad, organismo descentralizado, gobierno, etc.) estaría interesado en las preguntas mencionadas que identificó?\n",
        "\n",
        "*   ¿Cual municipio es el que consume mas agua? *Siapa esta interesado en esta pregunta para asi dirigir la mayor cantidad posible a este municipio o pasar recomendaciones al municipio sobre como ahorrar agua*\n",
        "*   ¿Que factores son los que llevan a que un municipio consuma mucha agua? *Siapa estaria interesado por saber cuales son los factores que llevan a consumir mucha agua para asi poder idear consejos de como ahorrar agua o para saber si es para motivos comerciales*\n",
        "*   ¿Cual es el municipo que consume mas combustible? *Pemex estaria interesado en esta pregunta para llevar mas combustible al municipio *\n",
        "*   ¿Que factores son los que llevan a que un municipio consuma mucho combustible? *greenpace tambien podria estar interesado para pasar recomendaciones sobre como no utilizar tanto combustible al municipio*\n",
        "\n"
      ],
      "metadata": {
        "id": "gxJvkSn9XjUW"
      }
    }
  ]
}
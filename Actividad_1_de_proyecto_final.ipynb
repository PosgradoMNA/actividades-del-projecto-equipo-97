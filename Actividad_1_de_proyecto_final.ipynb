{
  "nbformat": 4,
  "nbformat_minor": 0,
  "metadata": {
    "colab": {
      "provenance": [],
      "include_colab_link": true
    },
    "kernelspec": {
      "name": "python3",
      "display_name": "Python 3"
    },
    "language_info": {
      "name": "python"
    }
  },
  "cells": [
    {
      "cell_type": "markdown",
      "metadata": {
        "id": "view-in-github",
        "colab_type": "text"
      },
      "source": [
        "<a href=\"https://colab.research.google.com/github/PosgradoMNA/actividades-del-projecto-equipo-97/blob/development/Actividad_1_de_proyecto_final.ipynb\" target=\"_parent\"><img src=\"https://colab.research.google.com/assets/colab-badge.svg\" alt=\"Open In Colab\"/></a>"
      ]
    },
    {
      "cell_type": "markdown",
      "source": [
        "1.   El nombre que caracteriza el conjunto de datos.\n",
        "\n",
        "Censo económico del estado de Campeche 2018"
      ],
      "metadata": {
        "id": "B8Z4FWHvVFRi"
      }
    },
    {
      "cell_type": "markdown",
      "source": [
        "2.   La organización que lo generó.\n",
        "\n",
        "Instituto Nacional de Estadística y Geografía (INEGI)"
      ],
      "metadata": {
        "id": "Vtfdj-GvXC8o"
      }
    },
    {
      "cell_type": "markdown",
      "source": [
        "3.   Incluya un enlace de Internet donde se puedan descargar en línea y enviar como una hoja de cálculo junto con su informe correspondiente.\n",
        "\n",
        "URL: https://en.www.inegi.org.mx/datosabiertos/\n",
        "      \n",
        "Rutal del archivo: Subsystem of Economic Information> Census> Economic Censuses> 2019> Campeche"
      ],
      "metadata": {
        "id": "GxgMOeSAXJRS"
      }
    },
    {
      "cell_type": "markdown",
      "source": [
        "4.   Describe el conjunto de datos. ¿Qué datos contiene?\n",
        "\n",
        "Información estadística básica, referida al año 2018, sobre todos los establecimientos productores de bienes, comercializadores de mercancías y prestadores de servicios, para generar indicadores económicos de México a un nivel de detalle geográfico, sectorial y temático. En este caso particular se observaran los datos obtenidos del estado de Campeche del periodo 2018."
      ],
      "metadata": {
        "id": "IUnDIhpuXVum"
      }
    },
    {
      "cell_type": "markdown",
      "source": [
        "5.   ¿Cuáles son algunas de las preguntas de investigación que podría responder con estos datos? Enumere al menos OCHO (no responda las preguntas).\n",
        "\n",
        "*   ¿Cuál municipio es el que consume más agua?\n",
        "*   ¿Qué factores son los que llevan a que un municipio consuma mucha agua?\n",
        "*   ¿Cuál es el municipio que consume más combustible?\n",
        "*   ¿Qué factores son los que llevan a que un municipio consuma mucho combustible?\n",
        "*   ¿Qué actividad económica obtuvo mayor impacto para el estado de Campeche en el año 2018?\n",
        "*   ¿Cuales fueron los municipios con mayor gasto por concepto de arrendamiento?\n",
        "*   ¿Total de horas trabajadas en el año por el personal ocupado, dedicadas a las actividades?\n",
        "*   ¿Cuales fueron las actividades económicas con mayor gasto en el consumo de energía eléctrica? "
      ],
      "metadata": {
        "id": "FpVi6kv8Xahu"
      }
    },
    {
      "cell_type": "markdown",
      "source": [
        "6.   ¿Qué actor (empresa, sector de la sociedad, organismo descentralizado, gobierno, etc.) estaría interesado en las preguntas mencionadas que identificó?"
      ],
      "metadata": {
        "id": "gxJvkSn9XjUW"
      }
    }
  ]
}
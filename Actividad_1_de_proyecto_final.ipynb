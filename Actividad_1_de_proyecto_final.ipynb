{
  "nbformat": 4,
  "nbformat_minor": 0,
  "metadata": {
    "colab": {
      "provenance": [],
      "include_colab_link": true
    },
    "kernelspec": {
      "name": "python3",
      "display_name": "Python 3"
    },
    "language_info": {
      "name": "python"
    }
  },
  "cells": [
    {
      "cell_type": "markdown",
      "metadata": {
        "id": "view-in-github",
        "colab_type": "text"
      },
      "source": [
        "<a href=\"https://colab.research.google.com/github/PosgradoMNA/actividades-del-projecto-equipo-97/blob/main/Actividad_1_de_proyecto_final.ipynb\" target=\"_parent\"><img src=\"https://colab.research.google.com/assets/colab-badge.svg\" alt=\"Open In Colab\"/></a>"
      ]
    },
    {
      "cell_type": "markdown",
      "source": [
        "1.   El nombre que caracteriza el conjunto de datos.\n",
        "\n",
        "CDC Data: Nutrition, Physical Activity, & Obesity"
      ],
      "metadata": {
        "id": "B8Z4FWHvVFRi"
      }
    },
    {
      "cell_type": "markdown",
      "source": [
        "2.   La organización que lo generó.\n",
        "\n",
        "Kaggle (Lincensed under public domain)"
      ],
      "metadata": {
        "id": "Vtfdj-GvXC8o"
      }
    },
    {
      "cell_type": "markdown",
      "source": [
        "3.   Incluya un enlace de Internet donde se puedan descargar en línea y enviar como una hoja de cálculo junto con su informe correspondiente.\n",
        "\n",
        "URL: https://www.kaggle.com/datasets/spittman1248/cdc-data-nutrition-physical-activity-obesity"
      ],
      "metadata": {
        "id": "GxgMOeSAXJRS"
      }
    },
    {
      "cell_type": "markdown",
      "source": [
        "4.   Describe el conjunto de datos. ¿Qué datos contiene?\n",
        "\n",
        "This dataset includes data on adult's diet, physical activity, and weight status from Behavioral Risk Factor Surveillance System. This data is used for DNPAO's Data, Trends, and Maps database, which provides national and state specific data on obesity, nutrition, physical activity, and breastfeeding. I was particularly curious on whether socioeconomic status has an impact on obesity. In my analysis, I compare the obesity rate in each state, and then perform a linear regression on the obesity rate for each educational status and the income bracket."
      ],
      "metadata": {
        "id": "IUnDIhpuXVum"
      }
    },
    {
      "cell_type": "markdown",
      "source": [
        "5.   ¿Cuáles son algunas de las preguntas de investigación que podría responder con estos datos? Enumere al menos OCHO (no responda las preguntas).\n",
        "\n",
        "*   ¿Cual sera el porcentaje de adultos con 18 o mas años que tenga obesidad para 2023?\n",
        "*   ¿Cual sera el porcentaje de adultos con 18 o mas años que tenga una clasificacion de sobrepeso para 2023?\n",
        "*   ¿Cual sera el porcentaje de adultos quienes reportan que consumen menos de una fruta al dia para el 2023?\n",
        "*   ¿Cual sera el porcentaje de adultos quienes reportan que consumen menos de un vegetal al dia para el 2023?\n",
        "*   ¿Cual sera el porcentaje de adultos que realizan ejercicio en 2 o mas dias a la semana para 2023?\n",
        "*   ¿Cual sera el porcentaje de adultos que realizan 150 minutos a la semana de ejercicios aerobicos para 2023?\n",
        "*   ¿Cual sera el porcentaje de adultos que realizan 300 minutos a la semana de ejercicios aerobicos para 2023?\n",
        "*   ¿Cual sera el porcentaje de adultos que no realizan actividad física en el tiempo libre para 2023? "
      ],
      "metadata": {
        "id": "FpVi6kv8Xahu"
      }
    },
    {
      "cell_type": "markdown",
      "source": [
        "6.   ¿Qué actor (empresa, sector de la sociedad, organismo descentralizado, gobierno, etc.) estaría interesado en las preguntas mencionadas que identificó?\n",
        "\n",
        "La CDC estaria interesada en saber cual serian las predicciones de la salud en el futuro\n"
      ],
      "metadata": {
        "id": "gxJvkSn9XjUW"
      }
    }
  ]
}
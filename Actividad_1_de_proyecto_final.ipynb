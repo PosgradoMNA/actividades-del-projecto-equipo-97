{
  "nbformat": 4,
  "nbformat_minor": 0,
  "metadata": {
    "colab": {
      "provenance": [],
      "authorship_tag": "ABX9TyOx4+By6skz3cw79QoJ3tDk",
      "include_colab_link": true
    },
    "kernelspec": {
      "name": "python3",
      "display_name": "Python 3"
    },
    "language_info": {
      "name": "python"
    }
  },
  "cells": [
    {
      "cell_type": "markdown",
      "metadata": {
        "id": "view-in-github",
        "colab_type": "text"
      },
      "source": [
        "<a href=\"https://colab.research.google.com/github/PosgradoMNA/actividades-del-projecto-equipo-97/blob/development/Actividad_1_de_proyecto_final.ipynb\" target=\"_parent\"><img src=\"https://colab.research.google.com/assets/colab-badge.svg\" alt=\"Open In Colab\"/></a>"
      ]
    },
    {
      "cell_type": "markdown",
      "source": [
        "1.   El nombre que caracteriza el conjunto de datos."
      ],
      "metadata": {
        "id": "B8Z4FWHvVFRi"
      }
    },
    {
      "cell_type": "markdown",
      "source": [
        "2.   La organización que lo generó.\n",
        "\n"
      ],
      "metadata": {
        "id": "Vtfdj-GvXC8o"
      }
    },
    {
      "cell_type": "markdown",
      "source": [
        "3.   Incluya un enlace de Internet donde se puedan descargar en línea y enviar como una hoja de cálculo junto con su informe correspondiente.\n",
        "\n"
      ],
      "metadata": {
        "id": "GxgMOeSAXJRS"
      }
    },
    {
      "cell_type": "markdown",
      "source": [
        "4.   Describe el conjunto de datos. ¿Qué datos contiene?"
      ],
      "metadata": {
        "id": "IUnDIhpuXVum"
      }
    },
    {
      "cell_type": "markdown",
      "source": [
        "5.   ¿Cuáles son algunas de las preguntas de investigación que podría responder con estos datos? Enumere al menos OCHO (no responda las preguntas)."
      ],
      "metadata": {
        "id": "FpVi6kv8Xahu"
      }
    },
    {
      "cell_type": "markdown",
      "source": [
        "6.   ¿Qué actor (empresa, sector de la sociedad, organismo descentralizado, gobierno, etc.) estaría interesado en las preguntas mencionadas que identificó?"
      ],
      "metadata": {
        "id": "gxJvkSn9XjUW"
      }
    }
  ]
}
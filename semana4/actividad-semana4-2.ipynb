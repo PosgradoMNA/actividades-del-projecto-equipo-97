{
  "nbformat": 4,
  "nbformat_minor": 0,
  "metadata": {
    "colab": {
      "provenance": [],
      "authorship_tag": "ABX9TyNomC/jkORF2rfPKNin6/aN",
      "include_colab_link": true
    },
    "kernelspec": {
      "name": "python3",
      "display_name": "Python 3"
    },
    "language_info": {
      "name": "python"
    }
  },
  "cells": [
    {
      "cell_type": "markdown",
      "metadata": {
        "id": "view-in-github",
        "colab_type": "text"
      },
      "source": [
        "<a href=\"https://colab.research.google.com/github/PosgradoMNA/actividades-del-projecto-equipo-97/blob/main/actividad-semana4-2.ipynb\" target=\"_parent\"><img src=\"https://colab.research.google.com/assets/colab-badge.svg\" alt=\"Open In Colab\"/></a>"
      ]
    },
    {
      "cell_type": "markdown",
      "source": [
        "# *   Nombre de la entrega: Actividad Semanal -- 4\n",
        "# *   Nombre: Oscar Villa Cardenas\n",
        "# *   Matricula: A01794052\n",
        "# *   Materia: Ciencia y Analitica\n",
        "# *   Profesor: Jobish\n",
        "# *   Fecha: 2022-10-05"
      ],
      "metadata": {
        "id": "0LeTaPes8vrl"
      }
    },
    {
      "cell_type": "code",
      "execution_count": null,
      "metadata": {
        "id": "Z-Pti8Vk5LKS"
      },
      "outputs": [],
      "source": []
    }
  ]
}

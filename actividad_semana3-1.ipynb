{
  "nbformat": 4,
  "nbformat_minor": 0,
  "metadata": {
    "colab": {
      "provenance": [],
      "authorship_tag": "ABX9TyNgx2bmefQ4bfeyatf7fKDf",
      "include_colab_link": true
    },
    "kernelspec": {
      "name": "python3",
      "display_name": "Python 3"
    },
    "language_info": {
      "name": "python"
    }
  },
  "cells": [
    {
      "cell_type": "markdown",
      "metadata": {
        "id": "view-in-github",
        "colab_type": "text"
      },
      "source": [
        "<a href=\"https://colab.research.google.com/github/PosgradoMNA/actividades-del-projecto-equipo-97/blob/main/actividad_semana3-1.ipynb\" target=\"_parent\"><img src=\"https://colab.research.google.com/assets/colab-badge.svg\" alt=\"Open In Colab\"/></a>"
      ]
    },
    {
      "cell_type": "markdown",
      "source": [
        "Nombre de la entrega: Semana 3 - Actividad 1\n",
        "Nombre: Oscar Villa Cardenas\n",
        "Matrícula: A01794052\n",
        "Materia:Ciencia y analitica\n",
        "Profesor: Jobish\n",
        "Fecha:2022/09/22"
      ],
      "metadata": {
        "id": "pIZFSDXrC75J"
      }
    },
    {
      "cell_type": "markdown",
      "source": [
        "# Fundamentos de bases de datos"
      ],
      "metadata": {
        "id": "4taGGogRVjwE"
      }
    },
    {
      "cell_type": "markdown",
      "source": [
        "## Almacenes de datos\n",
        "\n",
        "Un almacén de datos es básicamente una base de datos gigantesca que contiene información de muchas fuentes distintas y las enlaza entre sí para que los aproveches.\n",
        "Un almacén de datos tiene el desafío de tomar datos desde diferentes fuentes, transformándolos en algún tipo de esquema que nos permita hacer consultas a estas diferentes fuentes de datos simultáneamente, y nos permite percibirlos, a través del análisis de datos.\n",
        "Podemos hacer consultas en ellos a través de SQL, lenguaje de consulta estructurado, o a través de herramientas de graficas.\n",
        "Hay muchos desafíos en el almacenamiento de datos, uno de los desafíos en el almacén de datos es la normalización de datos en donde tienes que darte cuenta de como todos esos campos de las diferentes fuentes de datos se relacionan entre sí."
      ],
      "metadata": {
        "id": "WdTlTBKW1rY2"
      }
    },
    {
      "cell_type": "markdown",
      "source": [
        "## ETL versus ETL\n",
        "\n",
        "Básicamente, primero extraes los datos que quieres de los sistemas operacionales que tú quieras.\n",
        "Esta etapa de la transformación se podría leer todas las líneas de los logs del servidor, transformando eso en una tabla, donde se extrae de cada una de esas líneas del servidor información clave y organizarlo en una estructura tabular que entonces se puede cargar al almacén de datos, como una tabla en una base de datos.\n",
        "Ahí es donde entra el concepto de ETL, la idea sería extraer la información como se hizo antes pero cargaríamos eso directamente a nuestro repositorio de datos y se usaría el poder del repositorio para para hacer la transformación en el repositorio."
      ],
      "metadata": {
        "id": "elHvQQUJ5h89"
      }
    },
    {
      "cell_type": "markdown",
      "source": [
        "# Selección y limpieza de los Datos en Python"
      ],
      "metadata": {
        "id": "7YkMeUCBVWSw"
      }
    },
    {
      "cell_type": "code",
      "execution_count": null,
      "metadata": {
        "id": "2vq4GR--0dbg",
        "colab": {
          "base_uri": "https://localhost:8080/",
          "height": 236
        },
        "outputId": "a97f4eb2-5116-4dd8-a33b-74883d8c4ac4"
      },
      "outputs": [
        {
          "output_type": "execute_result",
          "data": {
            "text/plain": [
              "   ID      X1   X2   X3   X4    X5   X6   X7   X8   X9  ...      X15      X16  \\\n",
              "0   1   20000  2.0  2.0  1.0  24.0  2.0  2.0 -1.0 -1.0  ...      0.0      0.0   \n",
              "1   2  120000  2.0  2.0  2.0  26.0 -1.0  2.0  0.0  0.0  ...   3272.0   3455.0   \n",
              "2   3   90000  2.0  2.0  2.0  34.0  0.0  0.0  0.0  0.0  ...  14331.0  14948.0   \n",
              "3   4   50000  2.0  2.0  1.0  37.0  0.0  0.0  0.0  0.0  ...  28314.0  28959.0   \n",
              "4   5   50000  1.0  2.0  1.0  57.0 -1.0  0.0 -1.0  0.0  ...  20940.0  19146.0   \n",
              "\n",
              "       X17     X18      X19      X20     X21     X22     X23    Y  \n",
              "0      0.0     0.0    689.0      0.0     0.0     0.0     0.0  1.0  \n",
              "1   3261.0     0.0   1000.0   1000.0  1000.0     0.0  2000.0  1.0  \n",
              "2  15549.0  1518.0   1500.0   1000.0  1000.0  1000.0  5000.0  0.0  \n",
              "3  29547.0  2000.0   2019.0   1200.0  1100.0  1069.0  1000.0  0.0  \n",
              "4  19131.0  2000.0  36681.0  10000.0  9000.0   689.0   679.0  0.0  \n",
              "\n",
              "[5 rows x 25 columns]"
            ],
            "text/html": [
              "\n",
              "  <div id=\"df-f28c8de1-2830-4fef-8a91-690687c8b186\">\n",
              "    <div class=\"colab-df-container\">\n",
              "      <div>\n",
              "<style scoped>\n",
              "    .dataframe tbody tr th:only-of-type {\n",
              "        vertical-align: middle;\n",
              "    }\n",
              "\n",
              "    .dataframe tbody tr th {\n",
              "        vertical-align: top;\n",
              "    }\n",
              "\n",
              "    .dataframe thead th {\n",
              "        text-align: right;\n",
              "    }\n",
              "</style>\n",
              "<table border=\"1\" class=\"dataframe\">\n",
              "  <thead>\n",
              "    <tr style=\"text-align: right;\">\n",
              "      <th></th>\n",
              "      <th>ID</th>\n",
              "      <th>X1</th>\n",
              "      <th>X2</th>\n",
              "      <th>X3</th>\n",
              "      <th>X4</th>\n",
              "      <th>X5</th>\n",
              "      <th>X6</th>\n",
              "      <th>X7</th>\n",
              "      <th>X8</th>\n",
              "      <th>X9</th>\n",
              "      <th>...</th>\n",
              "      <th>X15</th>\n",
              "      <th>X16</th>\n",
              "      <th>X17</th>\n",
              "      <th>X18</th>\n",
              "      <th>X19</th>\n",
              "      <th>X20</th>\n",
              "      <th>X21</th>\n",
              "      <th>X22</th>\n",
              "      <th>X23</th>\n",
              "      <th>Y</th>\n",
              "    </tr>\n",
              "  </thead>\n",
              "  <tbody>\n",
              "    <tr>\n",
              "      <th>0</th>\n",
              "      <td>1</td>\n",
              "      <td>20000</td>\n",
              "      <td>2.0</td>\n",
              "      <td>2.0</td>\n",
              "      <td>1.0</td>\n",
              "      <td>24.0</td>\n",
              "      <td>2.0</td>\n",
              "      <td>2.0</td>\n",
              "      <td>-1.0</td>\n",
              "      <td>-1.0</td>\n",
              "      <td>...</td>\n",
              "      <td>0.0</td>\n",
              "      <td>0.0</td>\n",
              "      <td>0.0</td>\n",
              "      <td>0.0</td>\n",
              "      <td>689.0</td>\n",
              "      <td>0.0</td>\n",
              "      <td>0.0</td>\n",
              "      <td>0.0</td>\n",
              "      <td>0.0</td>\n",
              "      <td>1.0</td>\n",
              "    </tr>\n",
              "    <tr>\n",
              "      <th>1</th>\n",
              "      <td>2</td>\n",
              "      <td>120000</td>\n",
              "      <td>2.0</td>\n",
              "      <td>2.0</td>\n",
              "      <td>2.0</td>\n",
              "      <td>26.0</td>\n",
              "      <td>-1.0</td>\n",
              "      <td>2.0</td>\n",
              "      <td>0.0</td>\n",
              "      <td>0.0</td>\n",
              "      <td>...</td>\n",
              "      <td>3272.0</td>\n",
              "      <td>3455.0</td>\n",
              "      <td>3261.0</td>\n",
              "      <td>0.0</td>\n",
              "      <td>1000.0</td>\n",
              "      <td>1000.0</td>\n",
              "      <td>1000.0</td>\n",
              "      <td>0.0</td>\n",
              "      <td>2000.0</td>\n",
              "      <td>1.0</td>\n",
              "    </tr>\n",
              "    <tr>\n",
              "      <th>2</th>\n",
              "      <td>3</td>\n",
              "      <td>90000</td>\n",
              "      <td>2.0</td>\n",
              "      <td>2.0</td>\n",
              "      <td>2.0</td>\n",
              "      <td>34.0</td>\n",
              "      <td>0.0</td>\n",
              "      <td>0.0</td>\n",
              "      <td>0.0</td>\n",
              "      <td>0.0</td>\n",
              "      <td>...</td>\n",
              "      <td>14331.0</td>\n",
              "      <td>14948.0</td>\n",
              "      <td>15549.0</td>\n",
              "      <td>1518.0</td>\n",
              "      <td>1500.0</td>\n",
              "      <td>1000.0</td>\n",
              "      <td>1000.0</td>\n",
              "      <td>1000.0</td>\n",
              "      <td>5000.0</td>\n",
              "      <td>0.0</td>\n",
              "    </tr>\n",
              "    <tr>\n",
              "      <th>3</th>\n",
              "      <td>4</td>\n",
              "      <td>50000</td>\n",
              "      <td>2.0</td>\n",
              "      <td>2.0</td>\n",
              "      <td>1.0</td>\n",
              "      <td>37.0</td>\n",
              "      <td>0.0</td>\n",
              "      <td>0.0</td>\n",
              "      <td>0.0</td>\n",
              "      <td>0.0</td>\n",
              "      <td>...</td>\n",
              "      <td>28314.0</td>\n",
              "      <td>28959.0</td>\n",
              "      <td>29547.0</td>\n",
              "      <td>2000.0</td>\n",
              "      <td>2019.0</td>\n",
              "      <td>1200.0</td>\n",
              "      <td>1100.0</td>\n",
              "      <td>1069.0</td>\n",
              "      <td>1000.0</td>\n",
              "      <td>0.0</td>\n",
              "    </tr>\n",
              "    <tr>\n",
              "      <th>4</th>\n",
              "      <td>5</td>\n",
              "      <td>50000</td>\n",
              "      <td>1.0</td>\n",
              "      <td>2.0</td>\n",
              "      <td>1.0</td>\n",
              "      <td>57.0</td>\n",
              "      <td>-1.0</td>\n",
              "      <td>0.0</td>\n",
              "      <td>-1.0</td>\n",
              "      <td>0.0</td>\n",
              "      <td>...</td>\n",
              "      <td>20940.0</td>\n",
              "      <td>19146.0</td>\n",
              "      <td>19131.0</td>\n",
              "      <td>2000.0</td>\n",
              "      <td>36681.0</td>\n",
              "      <td>10000.0</td>\n",
              "      <td>9000.0</td>\n",
              "      <td>689.0</td>\n",
              "      <td>679.0</td>\n",
              "      <td>0.0</td>\n",
              "    </tr>\n",
              "  </tbody>\n",
              "</table>\n",
              "<p>5 rows × 25 columns</p>\n",
              "</div>\n",
              "      <button class=\"colab-df-convert\" onclick=\"convertToInteractive('df-f28c8de1-2830-4fef-8a91-690687c8b186')\"\n",
              "              title=\"Convert this dataframe to an interactive table.\"\n",
              "              style=\"display:none;\">\n",
              "        \n",
              "  <svg xmlns=\"http://www.w3.org/2000/svg\" height=\"24px\"viewBox=\"0 0 24 24\"\n",
              "       width=\"24px\">\n",
              "    <path d=\"M0 0h24v24H0V0z\" fill=\"none\"/>\n",
              "    <path d=\"M18.56 5.44l.94 2.06.94-2.06 2.06-.94-2.06-.94-.94-2.06-.94 2.06-2.06.94zm-11 1L8.5 8.5l.94-2.06 2.06-.94-2.06-.94L8.5 2.5l-.94 2.06-2.06.94zm10 10l.94 2.06.94-2.06 2.06-.94-2.06-.94-.94-2.06-.94 2.06-2.06.94z\"/><path d=\"M17.41 7.96l-1.37-1.37c-.4-.4-.92-.59-1.43-.59-.52 0-1.04.2-1.43.59L10.3 9.45l-7.72 7.72c-.78.78-.78 2.05 0 2.83L4 21.41c.39.39.9.59 1.41.59.51 0 1.02-.2 1.41-.59l7.78-7.78 2.81-2.81c.8-.78.8-2.07 0-2.86zM5.41 20L4 18.59l7.72-7.72 1.47 1.35L5.41 20z\"/>\n",
              "  </svg>\n",
              "      </button>\n",
              "      \n",
              "  <style>\n",
              "    .colab-df-container {\n",
              "      display:flex;\n",
              "      flex-wrap:wrap;\n",
              "      gap: 12px;\n",
              "    }\n",
              "\n",
              "    .colab-df-convert {\n",
              "      background-color: #E8F0FE;\n",
              "      border: none;\n",
              "      border-radius: 50%;\n",
              "      cursor: pointer;\n",
              "      display: none;\n",
              "      fill: #1967D2;\n",
              "      height: 32px;\n",
              "      padding: 0 0 0 0;\n",
              "      width: 32px;\n",
              "    }\n",
              "\n",
              "    .colab-df-convert:hover {\n",
              "      background-color: #E2EBFA;\n",
              "      box-shadow: 0px 1px 2px rgba(60, 64, 67, 0.3), 0px 1px 3px 1px rgba(60, 64, 67, 0.15);\n",
              "      fill: #174EA6;\n",
              "    }\n",
              "\n",
              "    [theme=dark] .colab-df-convert {\n",
              "      background-color: #3B4455;\n",
              "      fill: #D2E3FC;\n",
              "    }\n",
              "\n",
              "    [theme=dark] .colab-df-convert:hover {\n",
              "      background-color: #434B5C;\n",
              "      box-shadow: 0px 1px 3px 1px rgba(0, 0, 0, 0.15);\n",
              "      filter: drop-shadow(0px 1px 2px rgba(0, 0, 0, 0.3));\n",
              "      fill: #FFFFFF;\n",
              "    }\n",
              "  </style>\n",
              "\n",
              "      <script>\n",
              "        const buttonEl =\n",
              "          document.querySelector('#df-f28c8de1-2830-4fef-8a91-690687c8b186 button.colab-df-convert');\n",
              "        buttonEl.style.display =\n",
              "          google.colab.kernel.accessAllowed ? 'block' : 'none';\n",
              "\n",
              "        async function convertToInteractive(key) {\n",
              "          const element = document.querySelector('#df-f28c8de1-2830-4fef-8a91-690687c8b186');\n",
              "          const dataTable =\n",
              "            await google.colab.kernel.invokeFunction('convertToInteractive',\n",
              "                                                     [key], {});\n",
              "          if (!dataTable) return;\n",
              "\n",
              "          const docLinkHtml = 'Like what you see? Visit the ' +\n",
              "            '<a target=\"_blank\" href=https://colab.research.google.com/notebooks/data_table.ipynb>data table notebook</a>'\n",
              "            + ' to learn more about interactive tables.';\n",
              "          element.innerHTML = '';\n",
              "          dataTable['output_type'] = 'display_data';\n",
              "          await google.colab.output.renderOutput(dataTable, element);\n",
              "          const docLink = document.createElement('div');\n",
              "          docLink.innerHTML = docLinkHtml;\n",
              "          element.appendChild(docLink);\n",
              "        }\n",
              "      </script>\n",
              "    </div>\n",
              "  </div>\n",
              "  "
            ]
          },
          "metadata": {},
          "execution_count": 2
        }
      ],
      "source": [
        "import pandas as pd\n",
        "import numpy as np\n",
        "import seaborn as sns\n",
        "import matplotlib.pyplot as plt\n",
        "\n",
        "url=\"https://raw.githubusercontent.com/PosgradoMNA/Actividades_Aprendizaje-/main/default%20of%20credit%20card%20clients.csv\"\n",
        "df = pd.read_csv(url)\n",
        "df.head()"
      ]
    },
    {
      "cell_type": "code",
      "source": [
        "#Check which columns have null values\n",
        "df.isnull().any()"
      ],
      "metadata": {
        "id": "6BXGWIA4MLLb",
        "outputId": "75872bc6-36fd-4eb1-833c-eaf907ff4733",
        "colab": {
          "base_uri": "https://localhost:8080/"
        }
      },
      "execution_count": null,
      "outputs": [
        {
          "output_type": "execute_result",
          "data": {
            "text/plain": [
              "ID     False\n",
              "X1     False\n",
              "X2      True\n",
              "X3      True\n",
              "X4      True\n",
              "X5      True\n",
              "X6      True\n",
              "X7      True\n",
              "X8      True\n",
              "X9      True\n",
              "X10     True\n",
              "X11     True\n",
              "X12     True\n",
              "X13     True\n",
              "X14     True\n",
              "X15     True\n",
              "X16     True\n",
              "X17     True\n",
              "X18     True\n",
              "X19     True\n",
              "X20     True\n",
              "X21     True\n",
              "X22     True\n",
              "X23     True\n",
              "Y       True\n",
              "dtype: bool"
            ]
          },
          "metadata": {},
          "execution_count": 3
        }
      ]
    },
    {
      "cell_type": "code",
      "source": [
        "#copy the dataframe\n",
        "ndf = df.copy()"
      ],
      "metadata": {
        "id": "8aWOXl_2K19N"
      },
      "execution_count": null,
      "outputs": []
    },
    {
      "cell_type": "code",
      "source": [
        "#Since it's a categorical data is better to use mode (Gender 1 = male; 2 = female)\n",
        "X2Mode = ndf['X2'].mode()\n",
        "ndf['X2'].fillna(value = X2Mode, \n",
        "                    inplace = True)\n",
        "print(X2Mode)"
      ],
      "metadata": {
        "id": "z-AIMaA5R1OU",
        "outputId": "e74319c8-f82f-4f03-f608-6634b836feed",
        "colab": {
          "base_uri": "https://localhost:8080/"
        }
      },
      "execution_count": null,
      "outputs": [
        {
          "output_type": "stream",
          "name": "stdout",
          "text": [
            "0    2.0\n",
            "dtype: float64\n"
          ]
        }
      ]
    },
    {
      "cell_type": "code",
      "source": [
        "#Since it's a categorical data is better to use mode (1 = graduate school; 2 = university; 3 = high school; 4 = others)\n",
        "X3Mode = ndf['X3'].mode()\n",
        "ndf['X3'].fillna(value = X3Mode, \n",
        "                    inplace = True)\n",
        "print(X3Mode)"
      ],
      "metadata": {
        "id": "glIR3ghfVC8S",
        "outputId": "c1905de6-ff9a-4151-d861-58b3884931bd",
        "colab": {
          "base_uri": "https://localhost:8080/"
        }
      },
      "execution_count": null,
      "outputs": [
        {
          "output_type": "stream",
          "name": "stdout",
          "text": [
            "0    2.0\n",
            "dtype: float64\n"
          ]
        }
      ]
    },
    {
      "cell_type": "code",
      "source": [
        "#Since it's a categorical data is better to use mode (1 = married; 2 = single; 3 = others)\n",
        "X4Mode = ndf['X4'].mode()\n",
        "ndf['X4'].fillna(value = X4Mode, \n",
        "                    inplace = True)\n",
        "print(X4Mode)"
      ],
      "metadata": {
        "colab": {
          "base_uri": "https://localhost:8080/"
        },
        "id": "EXE7NZw8Wzll",
        "outputId": "8476f5cd-bce5-4a67-b4ef-34ede7fb5708"
      },
      "execution_count": null,
      "outputs": [
        {
          "output_type": "stream",
          "name": "stdout",
          "text": [
            "0    2.0\n",
            "dtype: float64\n"
          ]
        }
      ]
    },
    {
      "cell_type": "code",
      "source": [
        "#According to series skew method the data is moderately skewed so is better to use mean than median\n",
        "X5Mean = ndf['X5'].mean()\n",
        "ndf['X5'].fillna(value = X5Mean, \n",
        "                    inplace = True)\n",
        "print(X5Mean)\n",
        "ndf['X5'].skew()"
      ],
      "metadata": {
        "colab": {
          "base_uri": "https://localhost:8080/"
        },
        "id": "jas6xfZeX93k",
        "outputId": "4a9f31bf-bd99-458e-cce8-03b35eb9cded"
      },
      "execution_count": null,
      "outputs": [
        {
          "output_type": "stream",
          "name": "stdout",
          "text": [
            "34.0\n"
          ]
        },
        {
          "output_type": "execute_result",
          "data": {
            "text/plain": [
              "0.7326630554081551"
            ]
          },
          "metadata": {},
          "execution_count": 14
        }
      ]
    },
    {
      "cell_type": "code",
      "source": [
        "#According to series skew method the data is moderately skewed so is better to use mean than median\n",
        "X6Mean = ndf['X6'].mean()\n",
        "ndf['X6'].fillna(value = X6Mean, \n",
        "                    inplace = True)\n",
        "print(X6Mean)\n",
        "ndf['X6'].skew()"
      ],
      "metadata": {
        "colab": {
          "base_uri": "https://localhost:8080/"
        },
        "id": "xDw0_Z16YwZV",
        "outputId": "e08d4fac-2d80-4b96-e6cc-edf26a2afecd"
      },
      "execution_count": null,
      "outputs": [
        {
          "output_type": "stream",
          "name": "stdout",
          "text": [
            "0.0\n"
          ]
        },
        {
          "output_type": "execute_result",
          "data": {
            "text/plain": [
              "0.7318976410774228"
            ]
          },
          "metadata": {},
          "execution_count": 15
        }
      ]
    },
    {
      "cell_type": "code",
      "source": [
        "#According to series skew method the data is moderately skewed so is better to use mean than median\n",
        "X7Mean = ndf['X7'].mean()\n",
        "ndf['X7'].fillna(value = X7Mean, \n",
        "                    inplace = True)\n",
        "print(X7Mean)\n",
        "ndf['X7'].skew()"
      ],
      "metadata": {
        "colab": {
          "base_uri": "https://localhost:8080/"
        },
        "id": "aKR4xmwgaaYu",
        "outputId": "8f68e6e5-1631-4b4a-d0db-98f6caebb4b5"
      },
      "execution_count": null,
      "outputs": [
        {
          "output_type": "stream",
          "name": "stdout",
          "text": [
            "0.0\n"
          ]
        },
        {
          "output_type": "execute_result",
          "data": {
            "text/plain": [
              "0.7904130556056"
            ]
          },
          "metadata": {},
          "execution_count": 16
        }
      ]
    },
    {
      "cell_type": "code",
      "source": [
        "#According to series skew method the data is moderately skewed so is better to use mean than median\n",
        "X8Mean = ndf['X8'].mean()\n",
        "ndf['X8'].fillna(value = X8Mean, \n",
        "                    inplace = True)\n",
        "print(X8Mean)\n",
        "ndf['X8'].skew()"
      ],
      "metadata": {
        "colab": {
          "base_uri": "https://localhost:8080/"
        },
        "id": "WAVJ4s-FagMw",
        "outputId": "3795f2f1-8ccd-4ed2-fd1c-c1aa8be36ef4"
      },
      "execution_count": null,
      "outputs": [
        {
          "output_type": "stream",
          "name": "stdout",
          "text": [
            "0.0\n"
          ]
        },
        {
          "output_type": "execute_result",
          "data": {
            "text/plain": [
              "0.8325389343593653"
            ]
          },
          "metadata": {},
          "execution_count": 18
        }
      ]
    },
    {
      "cell_type": "code",
      "source": [
        "#According to series skew method the data is moderately skewed so is better to use mean than median\n",
        "X9Mean = ndf['X9'].mean()\n",
        "ndf['X9'].fillna(value = X9Mean, \n",
        "                    inplace = True)\n",
        "print(X9Mean)\n",
        "ndf['X9'].skew()"
      ],
      "metadata": {
        "colab": {
          "base_uri": "https://localhost:8080/"
        },
        "id": "vPTHFfvHatPd",
        "outputId": "4ff6056f-c691-4071-c9ec-9027ddf8f8f1"
      },
      "execution_count": null,
      "outputs": [
        {
          "output_type": "stream",
          "name": "stdout",
          "text": [
            "0.0\n"
          ]
        },
        {
          "output_type": "execute_result",
          "data": {
            "text/plain": [
              "0.9997621875887739"
            ]
          },
          "metadata": {},
          "execution_count": 19
        }
      ]
    },
    {
      "cell_type": "code",
      "source": [
        "#According to series skew method the data is highly skewed so is better to use median than mean\n",
        "X10Median = ndf['X10'].median()\n",
        "ndf['X10'].fillna(value = X10Median, \n",
        "                    inplace = True)\n",
        "print(X10Median)\n",
        "ndf['X10'].skew()"
      ],
      "metadata": {
        "colab": {
          "base_uri": "https://localhost:8080/"
        },
        "id": "cVVlyb_Cazy4",
        "outputId": "450bd0ed-80b0-4afd-8e26-6397fc064d8d"
      },
      "execution_count": null,
      "outputs": [
        {
          "output_type": "stream",
          "name": "stdout",
          "text": [
            "0.0\n"
          ]
        },
        {
          "output_type": "execute_result",
          "data": {
            "text/plain": [
              "1.0081736097166485"
            ]
          },
          "metadata": {},
          "execution_count": 21
        }
      ]
    },
    {
      "cell_type": "code",
      "source": [
        "#According to series skew method the data is moderately skewed so is better to use mean than median\n",
        "X11Mean = ndf['X11'].mean()\n",
        "ndf['X11'].fillna(value = X11Mean, \n",
        "                    inplace = True)\n",
        "print(X11Mean)\n",
        "ndf['X11'].skew()"
      ],
      "metadata": {
        "colab": {
          "base_uri": "https://localhost:8080/"
        },
        "id": "L-kRmFrZbI9f",
        "outputId": "61ee8983-cc7d-4e3c-d446-59c5156ce223"
      },
      "execution_count": null,
      "outputs": [
        {
          "output_type": "stream",
          "name": "stdout",
          "text": [
            "0.0\n"
          ]
        },
        {
          "output_type": "execute_result",
          "data": {
            "text/plain": [
              "0.9478071520081152"
            ]
          },
          "metadata": {},
          "execution_count": 22
        }
      ]
    },
    {
      "cell_type": "code",
      "source": [
        "#According to series skew method the data is highly skewed so is better to use median than mean\n",
        "X12Median = ndf['X12'].median()\n",
        "ndf['X12'].fillna(value = X12Median, \n",
        "                    inplace = True)\n",
        "print(X12Median)\n",
        "ndf['X12'].skew()"
      ],
      "metadata": {
        "colab": {
          "base_uri": "https://localhost:8080/"
        },
        "id": "9_J6WezWbPG4",
        "outputId": "6a2a5120-67a5-471d-afaa-8e88577f1668"
      },
      "execution_count": null,
      "outputs": [
        {
          "output_type": "stream",
          "name": "stdout",
          "text": [
            "22387.0\n"
          ]
        },
        {
          "output_type": "execute_result",
          "data": {
            "text/plain": [
              "2.6640159943916344"
            ]
          },
          "metadata": {},
          "execution_count": 23
        }
      ]
    },
    {
      "cell_type": "code",
      "source": [
        "#According to series skew method the data is highly skewed so is better to use median than mean\n",
        "X13Median = ndf['X13'].median()\n",
        "ndf['X13'].fillna(value = X13Median, \n",
        "                    inplace = True)\n",
        "print(X13Median)\n",
        "ndf['X13'].skew()"
      ],
      "metadata": {
        "colab": {
          "base_uri": "https://localhost:8080/"
        },
        "id": "BCJ9q2GnbYVD",
        "outputId": "bd78e6d4-55c1-4b50-ef14-fdc5af9f1dd3"
      },
      "execution_count": null,
      "outputs": [
        {
          "output_type": "stream",
          "name": "stdout",
          "text": [
            "21207.0\n"
          ]
        },
        {
          "output_type": "execute_result",
          "data": {
            "text/plain": [
              "2.705361121728564"
            ]
          },
          "metadata": {},
          "execution_count": 24
        }
      ]
    },
    {
      "cell_type": "code",
      "source": [
        "#According to series skew method the data is highly skewed so is better to use median than mean\n",
        "X14Median = ndf['X14'].median()\n",
        "ndf['X14'].fillna(value = X14Median, \n",
        "                    inplace = True)\n",
        "print(X14Median)\n",
        "ndf['X14'].skew()"
      ],
      "metadata": {
        "colab": {
          "base_uri": "https://localhost:8080/"
        },
        "id": "8GjjSz5abrro",
        "outputId": "c94a642f-3cf6-4dd6-f20a-51693da2d60a"
      },
      "execution_count": null,
      "outputs": [
        {
          "output_type": "stream",
          "name": "stdout",
          "text": [
            "20089.0\n"
          ]
        },
        {
          "output_type": "execute_result",
          "data": {
            "text/plain": [
              "3.088016516565902"
            ]
          },
          "metadata": {},
          "execution_count": 25
        }
      ]
    },
    {
      "cell_type": "code",
      "source": [
        "#According to series skew method the data is highly skewed so is better to use median than mean\n",
        "X15Median = ndf['X15'].median()\n",
        "ndf['X15'].fillna(value = X15Median, \n",
        "                    inplace = True)\n",
        "print(X15Median)\n",
        "ndf['X15'].skew()"
      ],
      "metadata": {
        "colab": {
          "base_uri": "https://localhost:8080/"
        },
        "id": "cvxvrAL5bxj5",
        "outputId": "f796deeb-234c-4e6e-e519-b4c41ff51063"
      },
      "execution_count": null,
      "outputs": [
        {
          "output_type": "stream",
          "name": "stdout",
          "text": [
            "19052.0\n"
          ]
        },
        {
          "output_type": "execute_result",
          "data": {
            "text/plain": [
              "2.8221265899777124"
            ]
          },
          "metadata": {},
          "execution_count": 26
        }
      ]
    },
    {
      "cell_type": "code",
      "source": [
        "#According to series skew method the data is highly skewed so is better to use median than mean\n",
        "X16Median = ndf['X16'].median()\n",
        "ndf['X16'].fillna(value = X16Median, \n",
        "                    inplace = True)\n",
        "print(X16Median)\n",
        "ndf['X16'].skew()"
      ],
      "metadata": {
        "colab": {
          "base_uri": "https://localhost:8080/"
        },
        "id": "u9Jv3nfvcPZn",
        "outputId": "5e01c354-2135-4059-cba1-af97debf1819"
      },
      "execution_count": null,
      "outputs": [
        {
          "output_type": "stream",
          "name": "stdout",
          "text": [
            "18107.0\n"
          ]
        },
        {
          "output_type": "execute_result",
          "data": {
            "text/plain": [
              "2.8766990127398895"
            ]
          },
          "metadata": {},
          "execution_count": 27
        }
      ]
    },
    {
      "cell_type": "code",
      "source": [
        "#According to series skew method the data is highly skewed so is better to use median than mean\n",
        "X17Median = ndf['X17'].median()\n",
        "ndf['X17'].fillna(value = X17Median, \n",
        "                    inplace = True)\n",
        "print(X17Median)\n",
        "ndf['X17'].skew()"
      ],
      "metadata": {
        "colab": {
          "base_uri": "https://localhost:8080/"
        },
        "id": "iLSzzlDOcWXk",
        "outputId": "79109075-7c89-4bab-ea1b-e68e2aecd41d"
      },
      "execution_count": null,
      "outputs": [
        {
          "output_type": "stream",
          "name": "stdout",
          "text": [
            "17081.0\n"
          ]
        },
        {
          "output_type": "execute_result",
          "data": {
            "text/plain": [
              "2.846775604225143"
            ]
          },
          "metadata": {},
          "execution_count": 28
        }
      ]
    },
    {
      "cell_type": "code",
      "source": [
        "#According to series skew method the data is highly skewed so is better to use median than mean\n",
        "X18Median = ndf['X18'].median()\n",
        "ndf['X18'].fillna(value = X18Median, \n",
        "                    inplace = True)\n",
        "print(X18Median)\n",
        "ndf['X18'].skew()"
      ],
      "metadata": {
        "colab": {
          "base_uri": "https://localhost:8080/"
        },
        "id": "4Y0miliTcnR1",
        "outputId": "909ce207-5828-409b-fae2-df17551dc086"
      },
      "execution_count": null,
      "outputs": [
        {
          "output_type": "stream",
          "name": "stdout",
          "text": [
            "2100.0\n"
          ]
        },
        {
          "output_type": "execute_result",
          "data": {
            "text/plain": [
              "14.671599404078952"
            ]
          },
          "metadata": {},
          "execution_count": 29
        }
      ]
    },
    {
      "cell_type": "code",
      "source": [
        "#According to series skew method the data is highly skewed so is better to use median than mean\n",
        "X19Median = ndf['X19'].median()\n",
        "ndf['X19'].fillna(value = X19Median, \n",
        "                    inplace = True)\n",
        "print(X19Median)\n",
        "ndf['X19'].skew()"
      ],
      "metadata": {
        "colab": {
          "base_uri": "https://localhost:8080/"
        },
        "id": "g79hWQb4cuDa",
        "outputId": "27e26c4c-da14-4209-f119-b0a922c855d7"
      },
      "execution_count": null,
      "outputs": [
        {
          "output_type": "stream",
          "name": "stdout",
          "text": [
            "2009.0\n"
          ]
        },
        {
          "output_type": "execute_result",
          "data": {
            "text/plain": [
              "30.454000116010267"
            ]
          },
          "metadata": {},
          "execution_count": 30
        }
      ]
    },
    {
      "cell_type": "code",
      "source": [
        "#According to series skew method the data is highly skewed so is better to use median than mean\n",
        "X20Median = ndf['X20'].median()\n",
        "ndf['X20'].fillna(value = X20Median, \n",
        "                    inplace = True)\n",
        "print(X20Median)\n",
        "ndf['X20'].skew()"
      ],
      "metadata": {
        "colab": {
          "base_uri": "https://localhost:8080/"
        },
        "id": "UAwDZ9fDc3U8",
        "outputId": "93ab0c9f-8d58-4e16-9457-b3fb773f65d8"
      },
      "execution_count": null,
      "outputs": [
        {
          "output_type": "stream",
          "name": "stdout",
          "text": [
            "1800.0\n"
          ]
        },
        {
          "output_type": "execute_result",
          "data": {
            "text/plain": [
              "17.21899667319077"
            ]
          },
          "metadata": {},
          "execution_count": 31
        }
      ]
    },
    {
      "cell_type": "code",
      "source": [
        "#According to series skew method the data is highly skewed so is better to use median than mean\n",
        "X21Median = ndf['X21'].median()\n",
        "ndf['X21'].fillna(value = X21Median, \n",
        "                    inplace = True)\n",
        "print(X21Median)\n",
        "ndf['X21'].skew()"
      ],
      "metadata": {
        "colab": {
          "base_uri": "https://localhost:8080/"
        },
        "id": "poVOYBHhc_Kl",
        "outputId": "3cf8bcb6-31b6-422e-ada0-fef879e5c4fd"
      },
      "execution_count": null,
      "outputs": [
        {
          "output_type": "stream",
          "name": "stdout",
          "text": [
            "1500.0\n"
          ]
        },
        {
          "output_type": "execute_result",
          "data": {
            "text/plain": [
              "12.905366135319161"
            ]
          },
          "metadata": {},
          "execution_count": 32
        }
      ]
    },
    {
      "cell_type": "code",
      "source": [
        "#According to series skew method the data is highly skewed so is better to use median than mean\n",
        "X22Median = ndf['X22'].median()\n",
        "ndf['X22'].fillna(value = X22Median, \n",
        "                    inplace = True)\n",
        "print(X22Median)\n",
        "ndf['X22'].skew()"
      ],
      "metadata": {
        "colab": {
          "base_uri": "https://localhost:8080/"
        },
        "id": "xkH5dRRPdHay",
        "outputId": "375352d1-c9d3-4978-90a2-44634c615fc2"
      },
      "execution_count": null,
      "outputs": [
        {
          "output_type": "stream",
          "name": "stdout",
          "text": [
            "1500.0\n"
          ]
        },
        {
          "output_type": "execute_result",
          "data": {
            "text/plain": [
              "11.127765809881401"
            ]
          },
          "metadata": {},
          "execution_count": 33
        }
      ]
    },
    {
      "cell_type": "code",
      "source": [
        "#According to series skew method the data is highly skewed so is better to use median than mean\n",
        "X23Median = ndf['X23'].median()\n",
        "ndf['X23'].fillna(value = X23Median, \n",
        "                    inplace = True)\n",
        "print(X23Median)\n",
        "ndf['X23'].skew()"
      ],
      "metadata": {
        "colab": {
          "base_uri": "https://localhost:8080/"
        },
        "id": "SWlhoU0SdO9-",
        "outputId": "9037b1da-329c-4cde-ad36-c66e7f0fa2f3"
      },
      "execution_count": null,
      "outputs": [
        {
          "output_type": "stream",
          "name": "stdout",
          "text": [
            "1500.0\n"
          ]
        },
        {
          "output_type": "execute_result",
          "data": {
            "text/plain": [
              "10.640767198983557"
            ]
          },
          "metadata": {},
          "execution_count": 34
        }
      ]
    },
    {
      "cell_type": "code",
      "source": [
        "#According to series skew method the data is highly skewed so is better to use median than mean\n",
        "YMedian = ndf['Y'].median()\n",
        "ndf['Y'].fillna(value = YMedian, \n",
        "                    inplace = True)\n",
        "print(YMedian)\n",
        "ndf['Y'].skew()"
      ],
      "metadata": {
        "colab": {
          "base_uri": "https://localhost:8080/"
        },
        "id": "XOVOsBLydWJE",
        "outputId": "12e0d926-8ec1-450a-fd79-1915dcdd0a00"
      },
      "execution_count": null,
      "outputs": [
        {
          "output_type": "stream",
          "name": "stdout",
          "text": [
            "0.0\n"
          ]
        },
        {
          "output_type": "execute_result",
          "data": {
            "text/plain": [
              "1.3437370759837008"
            ]
          },
          "metadata": {},
          "execution_count": 35
        }
      ]
    },
    {
      "cell_type": "code",
      "source": [
        "#We no longer have null values on the columns\n",
        "ndf.isnull().any()"
      ],
      "metadata": {
        "colab": {
          "base_uri": "https://localhost:8080/"
        },
        "id": "84A4m2aTdjMI",
        "outputId": "4e1108ec-3e36-4963-b60a-4155f2189a5f"
      },
      "execution_count": null,
      "outputs": [
        {
          "output_type": "execute_result",
          "data": {
            "text/plain": [
              "ID     False\n",
              "X1     False\n",
              "X2     False\n",
              "X3     False\n",
              "X4     False\n",
              "X5     False\n",
              "X6     False\n",
              "X7     False\n",
              "X8     False\n",
              "X9     False\n",
              "X10    False\n",
              "X11    False\n",
              "X12    False\n",
              "X13    False\n",
              "X14    False\n",
              "X15    False\n",
              "X16    False\n",
              "X17    False\n",
              "X18    False\n",
              "X19    False\n",
              "X20    False\n",
              "X21    False\n",
              "X22    False\n",
              "X23    False\n",
              "Y      False\n",
              "dtype: bool"
            ]
          },
          "metadata": {},
          "execution_count": 41
        }
      ]
    },
    {
      "cell_type": "markdown",
      "source": [
        "# Parte 3: Preparación de los datos"
      ],
      "metadata": {
        "id": "UkNm2uAnfgKS"
      }
    },
    {
      "cell_type": "markdown",
      "source": [
        "1.   ¿Qué datos considero mas importantes? ¿Por qué?\n",
        "  Yo siempre he considerado a todos los datos importantes\n",
        "2.   ¿Se eliminaron o reemplazaron datos nulos? ¿Qué se hizo y por qué?\n",
        "  No se eliminaron simplemente se remplazaron los datos nulos\n",
        "3.   ¿Es necesario ordenar los datos para el análisis? Sí/No/¿Por qué?\n",
        "  No creo simplemente cheque el metodo skew() para checar el nivel de sesgado que tenian los datos\n",
        "4.   ¿Existen problemas de formato que deban solucionar antes del proceso de modelado? Sí / No / Por qué.\n",
        "  No\n",
        "5.   ¿Qué ajustes se realizaron en el proceso de limpieza de datos (agregar, integrar, eliminar, modificar registros (filas), cambiar atributos (columnas)?\n",
        "  Se reemplazaron los datos nulos de una columna por otros datos dependiendo de los datos de la columna:\n",
        "  *   Para los datos categoricos se uso la moda\n",
        "  *   Para los datos simetricos o levemente sesgados se uso el promedio\n",
        "  *   Para los datos altamente sesgados se utilizo la mediana"
      ],
      "metadata": {
        "id": "RZ0yumEdfiQ7"
      }
    }
  ]
}